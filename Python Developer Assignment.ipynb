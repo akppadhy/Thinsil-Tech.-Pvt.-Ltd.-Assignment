{
 "cells": [
  {
   "cell_type": "code",
   "execution_count": null,
   "id": "77e918f9",
   "metadata": {},
   "outputs": [],
   "source": [
    "pip install PyPDF2"
   ]
  },
  {
   "cell_type": "code",
   "execution_count": null,
   "id": "2de23a06",
   "metadata": {},
   "outputs": [],
   "source": [
    "!!pip install pillow\n",
    "!!pip install reportlab"
   ]
  },
  {
   "cell_type": "code",
   "execution_count": null,
   "id": "9de9e55b",
   "metadata": {},
   "outputs": [],
   "source": [
    "import PyPDF2\n",
    "import fitz\n",
    "from pdf2image import convert_from_path\n",
    "import os"
   ]
  },
  {
   "cell_type": "code",
   "execution_count": null,
   "id": "476694d1",
   "metadata": {},
   "outputs": [],
   "source": [
    "# Function to combine two or more PDF files\n",
    "def combine_pdfs(pdf_files, output_file):\n",
    "    pdf_merger = PyPDF2.PdfMerger()\n",
    "    for pdf_file in pdf_files:\n",
    "        pdf_merger.append(pdf_file)\n",
    "    pdf_merger.write(output_file)\n",
    "    pdf_merger.close()"
   ]
  },
  {
   "cell_type": "code",
   "execution_count": null,
   "id": "f7492d26",
   "metadata": {},
   "outputs": [],
   "source": [
    "# Function to separate or extract all pages from a PDF\n",
    "def extract_pages(input_pdf, start_page, end_page, output_file):\n",
    "    pdf_document = PyPDF2.PdfReader(input_pdf)\n",
    "    pdf_writer = PyPDF2.PdfWriter()\n",
    "    for page_num in range(start_page - 1, end_page):\n",
    "        page = pdf_document.getPage(page_num)\n",
    "        pdf_writer.addPage(page)\n",
    "    with open(output_file, 'wb') as output:\n",
    "        pdf_writer.write(output)"
   ]
  },
  {
   "cell_type": "code",
   "execution_count": null,
   "id": "12380ab2",
   "metadata": {},
   "outputs": [],
   "source": [
    "# Function to remove PDF password security\n",
    "def remove_password(input_pdf, output_pdf, password):\n",
    "    pdf_reader = PyPDF2.PdfReader(input_pdf)\n",
    "    pdf_writer = PyPDF2.PdfWriter()\n",
    "    for page_num in range(pdf_reader.getNumPages()):\n",
    "        pdf_writer.addPage(pdf_reader.getPage(page_num))\n",
    "    pdf_writer.encrypt('', password)\n",
    "    with open(output_pdf, 'wb') as output:\n",
    "        pdf_writer.write(output)"
   ]
  },
  {
   "cell_type": "code",
   "execution_count": null,
   "id": "28e6ee4b",
   "metadata": {},
   "outputs": [],
   "source": [
    "# Function to extract text from a PDF and save to a TXT file\n",
    "def extract_text(input_pdf, output_txt):\n",
    "    pdf_document = fitz.open(input_pdf)\n",
    "    text = \"\"\n",
    "    for page_num in range(pdf_document.page_count):\n",
    "        page = pdf_document[page_num]\n",
    "        text += page.get_text()\n",
    "    with open(output_txt, 'w', encoding='utf-8') as output:\n",
    "        output.write(text)\n"
   ]
  },
  {
   "cell_type": "code",
   "execution_count": null,
   "id": "ea0e3edd",
   "metadata": {},
   "outputs": [],
   "source": [
    "# Function to convert images (JPG, TIFF, PNG) to PDF\n",
    "def images_to_pdf(image_files, output_pdf):\n",
    "    images = [file for file in image_files if file.lower().endswith(('.jpg', '.jpeg', '.png', '.tiff', '.tif'))]\n",
    "    images = sorted(images)  # Sort images for proper order\n",
    "    pdf = PyPDF2.PdfWriter()\n",
    "\n",
    "\n",
    "    for image in images:\n",
    "        image_pdf = PyPDF2.PdfReader(image)\n",
    "        pdf.addPage(image_pdf.getPage(0))\n",
    "\n",
    "    with open(output_pdf, 'wb') as output:\n",
    "        pdf.write(output)"
   ]
  },
  {
   "cell_type": "code",
   "execution_count": null,
   "id": "67cdc4b4",
   "metadata": {},
   "outputs": [],
   "source": [
    "# Main program\n",
    "if __name__ == \"__main__\":\n",
    "    print(\"PDF Processing Application\")\n",
    "\n",
    "    while True:\n",
    "        print(\"\\nChoose an option:\")\n",
    "        print(\"1. Combine PDF files\")\n",
    "        print(\"2. Extract pages from a PDF\")\n",
    "        print(\"3. Remove PDF password security\")\n",
    "        print(\"4. Extract text from a PDF\")\n",
    "        print(\"5. Convert images to PDF\")\n",
    "        print(\"6. Exit\")\n",
    "\n",
    "        choice = input(\"Enter your choice: \")\n",
    "\n",
    "        if choice == \"1\":\n",
    "            pdf_files = input(\"Enter PDF file paths to combine (separated by space): \")\n",
    "            output_file = input(\"Enter the output PDF file name: \")\n",
    "            combine_pdfs(pdf_files, output_file)\n",
    "            print(\"PDFs combined successfully!\")\n",
    "\n",
    "        elif choice == \"2\":\n",
    "            input_pdf = input(\"Enter the input PDF file: \")\n",
    "            start_page = int(input(\"Enter the start page: \"))\n",
    "            end_page = int(input(\"Enter the end page: \"))\n",
    "            output_file = input(\"Enter the output PDF file name: \")\n",
    "            extract_pages(input_pdf, start_page, end_page, output_file)\n",
    "            print(\"Pages extracted successfully!\")\n",
    "\n",
    "        elif choice == \"3\":\n",
    "            input_pdf = input(\"Enter the input PDF file: \")\n",
    "            output_pdf = input(\"Enter the output PDF file (without password): \")\n",
    "            password = input(\"Enter the PDF password: \")\n",
    "            remove_password(input_pdf, output_pdf, password)\n",
    "            print(\"Password removed successfully!\")\n",
    "\n",
    "        elif choice == \"4\":\n",
    "            input_pdf = input(\"Enter the input PDF file: \")\n",
    "            output_txt = input(\"Enter the output text file: \")\n",
    "            extract_text(input_pdf, output_txt)\n",
    "            print(\"Text extracted and saved to a text file!\")\n",
    "\n",
    "        elif choice == \"5\":\n",
    "            image_files = input(\"Enter image files to convert to PDF (separated by space): \").split()\n",
    "            output_pdf = input(\"Enter the output PDF file name: \")\n",
    "            images_to_pdf(image_files, output_pdf)\n",
    "            print(\"Images converted to PDF successfully!\")\n",
    "\n",
    "        elif choice == \"6\":\n",
    "            print(\"Goodbye!\")\n",
    "            break\n",
    "\n",
    "        else:\n",
    "            print(\"Invalid choice. Please select a valid option.\")\n"
   ]
  }
 ],
 "metadata": {
  "kernelspec": {
   "display_name": "Python 3 (ipykernel)",
   "language": "python",
   "name": "python3"
  },
  "language_info": {
   "codemirror_mode": {
    "name": "ipython",
    "version": 3
   },
   "file_extension": ".py",
   "mimetype": "text/x-python",
   "name": "python",
   "nbconvert_exporter": "python",
   "pygments_lexer": "ipython3",
   "version": "3.11.3"
  }
 },
 "nbformat": 4,
 "nbformat_minor": 5
}
